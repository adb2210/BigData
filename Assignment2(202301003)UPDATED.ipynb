{
  "nbformat": 4,
  "nbformat_minor": 0,
  "metadata": {
    "colab": {
      "provenance": [],
      "authorship_tag": "ABX9TyMgRaC83eIURh12LiJH5ReJ",
      "include_colab_link": true
    },
    "kernelspec": {
      "name": "python3",
      "display_name": "Python 3"
    },
    "language_info": {
      "name": "python"
    }
  },
  "cells": [
    {
      "cell_type": "markdown",
      "metadata": {
        "id": "view-in-github",
        "colab_type": "text"
      },
      "source": [
        "<a href=\"https://colab.research.google.com/github/adb2210/BigData/blob/main/Assignment2(202301003)UPDATED.ipynb\" target=\"_parent\"><img src=\"https://colab.research.google.com/assets/colab-badge.svg\" alt=\"Open In Colab\"/></a>"
      ]
    },
    {
      "cell_type": "code",
      "source": [
        "import numpy as np\n",
        "arr=np.array([1,2,3,6,4,5])\n",
        "reversedArr=arr[::-1]\n",
        "print(\"Reverse of the array:\",reversedArr)"
      ],
      "metadata": {
        "colab": {
          "base_uri": "https://localhost:8080/"
        },
        "id": "Xb73uPGNqRuF",
        "outputId": "e270751c-f7db-4bfd-81a9-b96c1a3ffcfc"
      },
      "execution_count": 1,
      "outputs": [
        {
          "output_type": "stream",
          "name": "stdout",
          "text": [
            "Reverse of the array: [5 4 6 3 2 1]\n"
          ]
        }
      ]
    },
    {
      "cell_type": "code",
      "source": [
        "import numpy as np\n",
        "arr1=np.array([[1,2],[3,4]])\n",
        "arr2=np.array([[1,2],[3,4]])\n",
        "c=arr1==arr2\n",
        "print(\"Result:\",c)"
      ],
      "metadata": {
        "colab": {
          "base_uri": "https://localhost:8080/"
        },
        "id": "fiN8mcYyrdtP",
        "outputId": "eaf67132-63b8-4e45-c83f-872abdd24224"
      },
      "execution_count": 2,
      "outputs": [
        {
          "output_type": "stream",
          "name": "stdout",
          "text": [
            "Result: [[ True  True]\n",
            " [ True  True]]\n"
          ]
        }
      ]
    },
    {
      "cell_type": "code",
      "source": [
        "import numpy as np\n",
        "def number(arr):\n",
        "  maxCount=0\n",
        "  for i in range(len(arr)):\n",
        "    count=1\n",
        "    for j in range(i+1,len(arr)):\n",
        "      if arr[i]==arr[j]:\n",
        "        count=count+1\n",
        "    if(maxCount<count):\n",
        "      maxCount=count\n",
        "      num=arr[i]\n",
        "  return num\n",
        "\n",
        "\n",
        "x=np.array([1,2,3,4,5,1,2,1,1,1])\n",
        "y=np.array([1,1,1,2,3,4,2,4,3,3])\n",
        "num1=number(x)    #most frequent number in array x\n",
        "num2=number(y)    #most frequent number in array y\n",
        "print(\"Number most frequent in array x:\",num1)\n",
        "print(\"Indexes:\")\n",
        "for i in range(len(x)):\n",
        "  if x[i]==num1:\n",
        "    print(i,end=' ')\n",
        "print(\"\\nNumber most frequent in array y:\",num2)\n",
        "print(\"Indexes:\")\n",
        "for i in range(len(y)):\n",
        "  if y[i]==num2:\n",
        "    print(i,end=' ')\n",
        "\n"
      ],
      "metadata": {
        "colab": {
          "base_uri": "https://localhost:8080/"
        },
        "id": "Yf-uNIjbsWXQ",
        "outputId": "0995f7e3-41a5-4ec6-82bf-01c932510162"
      },
      "execution_count": 3,
      "outputs": [
        {
          "output_type": "stream",
          "name": "stdout",
          "text": [
            "Number most frequent in array x: 1\n",
            "Indexes:\n",
            "0 5 7 8 9 \n",
            "Number most frequent in array y: 1\n",
            "Indexes:\n",
            "0 1 2 "
          ]
        }
      ]
    },
    {
      "cell_type": "code",
      "source": [
        "import numpy as np\n",
        "arr=np.array([[4,1,9],[12,3,1],[4,5,6]])\n",
        "sumAll=0\n",
        "for i in range(3):\n",
        "  sumRow,sumCol=0,0\n",
        "  for j in range(3):\n",
        "    sumAll+=arr[i][j]\n",
        "    sumRow+=arr[i][j]\n",
        "    sumCol+=arr[j][i]\n",
        "  print(\"Sum of\",i+1,\"row:\",sumRow)\n",
        "  print(\"Sum of\",i+1,\"column:\",sumCol)\n",
        "print(\"Sum of all elements:\",sumAll)"
      ],
      "metadata": {
        "colab": {
          "base_uri": "https://localhost:8080/"
        },
        "id": "mI-wvGWa4suu",
        "outputId": "04ffd5bc-8e5d-4724-da3b-84047511e51b"
      },
      "execution_count": 4,
      "outputs": [
        {
          "output_type": "stream",
          "name": "stdout",
          "text": [
            "Sum of 1 row: 14\n",
            "Sum of 1 column: 20\n",
            "Sum of 2 row: 16\n",
            "Sum of 2 column: 9\n",
            "Sum of 3 row: 15\n",
            "Sum of 3 column: 16\n",
            "Sum of all elements: 45\n"
          ]
        }
      ]
    }
  ]
}