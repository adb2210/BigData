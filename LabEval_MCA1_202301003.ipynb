{
  "nbformat": 4,
  "nbformat_minor": 0,
  "metadata": {
    "colab": {
      "provenance": [],
      "authorship_tag": "ABX9TyPguVLo0C0gEJiB8APqLmex",
      "include_colab_link": true
    },
    "kernelspec": {
      "name": "python3",
      "display_name": "Python 3"
    },
    "language_info": {
      "name": "python"
    }
  },
  "cells": [
    {
      "cell_type": "markdown",
      "metadata": {
        "id": "view-in-github",
        "colab_type": "text"
      },
      "source": [
        "<a href=\"https://colab.research.google.com/github/adb2210/BigData/blob/main/LabEval_MCA1_202301003.ipynb\" target=\"_parent\"><img src=\"https://colab.research.google.com/assets/colab-badge.svg\" alt=\"Open In Colab\"/></a>"
      ]
    },
    {
      "cell_type": "code",
      "execution_count": 1,
      "metadata": {
        "id": "iCRY333UuZLH"
      },
      "outputs": [],
      "source": [
        "import numpy as np\n",
        "matrix1=[[1,2],[2,3]]\n",
        "matrix2=[[4,5],[6,7]]\n",
        "p=np.array(matrix1)\n",
        "q=np.array(matrix2)"
      ]
    },
    {
      "cell_type": "code",
      "source": [
        "result=[]\n",
        "for i in range(2):\n",
        "  row=[]\n",
        "  for j in range(2):\n",
        "    ans=0\n",
        "    for k in range(2):\n",
        "      ans=ans+p[i][k]*q[k][j]\n",
        "    row.append(ans)\n",
        "  result.append(row)\n",
        "print(result)"
      ],
      "metadata": {
        "colab": {
          "base_uri": "https://localhost:8080/"
        },
        "id": "NQZURcG9wJDV",
        "outputId": "d73effb3-3d4a-4bd5-9089-b45b238683e5"
      },
      "execution_count": 13,
      "outputs": [
        {
          "output_type": "stream",
          "name": "stdout",
          "text": [
            "[[16, 19], [26, 31]]\n"
          ]
        }
      ]
    },
    {
      "cell_type": "code",
      "source": [
        "x=[]\n",
        "y=[]\n",
        "for i in range(2):\n",
        "  for j in range(2):\n",
        "    x.append(p[i][j])\n",
        "    y.append(q[i][j])\n",
        "print(x)\n",
        "print(y)\n"
      ],
      "metadata": {
        "id": "eJ-H7p_2z1gN"
      },
      "execution_count": null,
      "outputs": []
    }
  ]
}