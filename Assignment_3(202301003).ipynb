{
  "nbformat": 4,
  "nbformat_minor": 0,
  "metadata": {
    "colab": {
      "provenance": [],
      "authorship_tag": "ABX9TyMmYlpmi1HgHWMpCznVR0T2",
      "include_colab_link": true
    },
    "kernelspec": {
      "name": "python3",
      "display_name": "Python 3"
    },
    "language_info": {
      "name": "python"
    }
  },
  "cells": [
    {
      "cell_type": "markdown",
      "metadata": {
        "id": "view-in-github",
        "colab_type": "text"
      },
      "source": [
        "<a href=\"https://colab.research.google.com/github/adb2210/BigData/blob/main/Assignment_3(202301003).ipynb\" target=\"_parent\"><img src=\"https://colab.research.google.com/assets/colab-badge.svg\" alt=\"Open In Colab\"/></a>"
      ]
    },
    {
      "cell_type": "code",
      "execution_count": 2,
      "metadata": {
        "colab": {
          "base_uri": "https://localhost:8080/"
        },
        "id": "h_0zwXEJ_B1A",
        "outputId": "656da5a4-4925-4715-f46b-3c3aa161499b"
      },
      "outputs": [
        {
          "output_type": "stream",
          "name": "stdout",
          "text": [
            "   Tid Refund Marital Status  Taxable Income Cheat\n",
            "0    1    Yes         Single          125000    No\n",
            "1    2     No        Married          100000    No\n",
            "2    3     No         Single           70000    No\n",
            "3    4    Yes        Married          120000    No\n",
            "4    5     No       Divorced           95000   Yes\n",
            "5    6     No        Married           60000    No\n",
            "6    7    Yes       Divorced          220000    No\n",
            "7    8     No         Single           85000   Yes\n",
            "8    9     No        Married           75000    No\n",
            "9   10     No         Single           90000   Yes\n",
            "Row 0:\n",
            "Tid                    1\n",
            "Refund               Yes\n",
            "Marital Status    Single\n",
            "Taxable Income    125000\n",
            "Cheat                 No\n",
            "Name: 0, dtype: object\n",
            "Row 4:\n",
            "Tid                      5\n",
            "Refund                  No\n",
            "Marital Status    Divorced\n",
            "Taxable Income       95000\n",
            "Cheat                  Yes\n",
            "Name: 4, dtype: object\n",
            "Row 7:\n",
            "Tid                    8\n",
            "Refund                No\n",
            "Marital Status    Single\n",
            "Taxable Income     85000\n",
            "Cheat                Yes\n",
            "Name: 7, dtype: object\n",
            "Row 8:\n",
            "Tid                     9\n",
            "Refund                 No\n",
            "Marital Status    Married\n",
            "Taxable Income      75000\n",
            "Cheat                  No\n",
            "Name: 8, dtype: object\n"
          ]
        }
      ],
      "source": [
        "import pandas as pd\n",
        "data=[[1,'Yes','Single',125000,'No'],\n",
        "       [2,'No','Married',100000,'No'],\n",
        "        [3,'No','Single',70000,'No'],\n",
        "         [4,'Yes','Married',120000,'No'],\n",
        "          [5,'No','Divorced',95000,'Yes'],\n",
        "           [6,'No','Married',60000,'No'],\n",
        "            [7,'Yes','Divorced',220000,'No'],\n",
        "             [8,'No','Single',85000,'Yes'],\n",
        "              [9,'No','Married',75000,'No'],\n",
        "               [10,'No','Single',90000,'Yes']]\n",
        "dataSet=pd.DataFrame(data,columns=['Tid','Refund','Marital Status','Taxable Income','Cheat'])\n",
        "print(dataSet)\n",
        "print('Row 0:')\n",
        "print(dataSet.iloc[0])\n",
        "print('Row 4:')\n",
        "print(dataSet.iloc[4])\n",
        "print('Row 7:')\n",
        "print(dataSet.iloc[7])\n",
        "print('Row 8:')\n",
        "print(dataSet.iloc[8])"
      ]
    },
    {
      "cell_type": "code",
      "source": [
        "df=pd.read_csv('/content/company_sales_data.csv')\n",
        "print(df)"
      ],
      "metadata": {
        "colab": {
          "base_uri": "https://localhost:8080/"
        },
        "id": "hKuMBveEt4s2",
        "outputId": "18fa4c39-a971-452c-ddb3-f94b56033fbb"
      },
      "execution_count": 4,
      "outputs": [
        {
          "output_type": "stream",
          "name": "stdout",
          "text": [
            "    month_number  facecream  facewash  toothpaste  bathingsoap  shampoo  \\\n",
            "0              1       2500      1500        5200         9200     1200   \n",
            "1              2       2630      1200        5100         6100     2100   \n",
            "2              3       2140      1340        4550         9550     3550   \n",
            "3              4       3400      1130        5870         8870     1870   \n",
            "4              5       3600      1740        4560         7760     1560   \n",
            "5              6       2760      1555        4890         7490     1890   \n",
            "6              7       2980      1120        4780         8980     1780   \n",
            "7              8       3700      1400        5860         9960     2860   \n",
            "8              9       3540      1780        6100         8100     2100   \n",
            "9             10       1990      1890        8300        10300     2300   \n",
            "10            11       2340      2100        7300        13300     2400   \n",
            "11            12       2900      1760        7400        14400     1800   \n",
            "\n",
            "    moisturizer  total_units  total_profit  \n",
            "0          1500        21100        211000  \n",
            "1          1200        18330        183300  \n",
            "2          1340        22470        224700  \n",
            "3          1130        22270        222700  \n",
            "4          1740        20960        209600  \n",
            "5          1555        20140        201400  \n",
            "6          1120        29550        295500  \n",
            "7          1400        36140        361400  \n",
            "8          1780        23400        234000  \n",
            "9          1890        26670        266700  \n",
            "10         2100        41280        412800  \n",
            "11         1760        30020        300200  \n"
          ]
        }
      ]
    }
  ]
}